{
  "nbformat": 4,
  "nbformat_minor": 0,
  "metadata": {
    "colab": {
      "provenance": [],
      "gpuType": "T4"
    },
    "kernelspec": {
      "name": "python3",
      "display_name": "Python 3"
    },
    "language_info": {
      "name": "python"
    },
    "accelerator": "GPU"
  },
  "cells": [
    {
      "cell_type": "code",
      "execution_count": 1,
      "metadata": {
        "colab": {
          "base_uri": "https://localhost:8080/"
        },
        "id": "nvnDi3TsEunc",
        "outputId": "37eab1ad-e871-43e4-bd69-69694ca6362a"
      },
      "outputs": [
        {
          "output_type": "stream",
          "name": "stdout",
          "text": [
            "Cloning into 'ntc-scv'...\n",
            "remote: Enumerating objects: 39, done.\u001b[K\n",
            "remote: Counting objects: 100% (4/4), done.\u001b[K\n",
            "remote: Compressing objects: 100% (3/3), done.\u001b[K\n",
            "remote: Total 39 (delta 0), reused 4 (delta 0), pack-reused 35\u001b[K\n",
            "Receiving objects: 100% (39/39), 186.94 MiB | 36.83 MiB/s, done.\n",
            "Resolving deltas: 100% (9/9), done.\n"
          ]
        }
      ],
      "source": [
        "!git clone https://github.com/congnghia0609/ntc-scv.git"
      ]
    },
    {
      "cell_type": "code",
      "source": [
        "!unzip /content/ntc-scv/data/data_test.zip -d ./data\n",
        "!unzip /content/ntc-scv/data/data_train.zip -d ./data\n",
        "!rm -rf ./ntc-scv/"
      ],
      "metadata": {
        "colab": {
          "base_uri": "https://localhost:8080/"
        },
        "id": "OddOYTqzGc5U",
        "outputId": "88df74f4-0202-4da0-dec8-57d9e74c1e74"
      },
      "execution_count": 2,
      "outputs": [
        {
          "output_type": "stream",
          "name": "stdout",
          "text": [
            "Archive:  /content/ntc-scv/data/data_test.zip\n",
            "replace ./data/data_test/test/neg/10.txt? [y]es, [n]o, [A]ll, [N]one, [r]ename: Archive:  /content/ntc-scv/data/data_train.zip\n",
            "replace ./data/data_train/test/neg/10013.txt? [y]es, [n]o, [A]ll, [N]one, [r]ename: ^C\n"
          ]
        }
      ]
    },
    {
      "cell_type": "code",
      "source": [
        "PATH = {\"train\" : \"./data/data_train/train\",\n",
        "        \"val\" : \"./data/data_train/test\",\n",
        "        \"test\" : \"./data/data_test/test\"}"
      ],
      "metadata": {
        "id": "oOltdHgXGeha"
      },
      "execution_count": 1,
      "outputs": []
    },
    {
      "cell_type": "code",
      "source": [
        "import os\n",
        "import pandas as pd\n",
        "\n",
        "def load_data(folder_path):\n",
        "    examples = []\n",
        "    for label in os.listdir(folder_path):\n",
        "        full_path = os.path.join(folder_path, label)\n",
        "        for file_name in os.listdir(full_path):\n",
        "            file_path = os.path.join(full_path, file_name)\n",
        "            with open(file_path, \"r\", encoding=\"utf-8\") as f:\n",
        "                content = f.read()\n",
        "            if label == \"neg\":\n",
        "                label = 0\n",
        "            if label == \"pos\":\n",
        "                label = 1\n",
        "            data = {\n",
        "                \"sentence\" : content,\n",
        "                \"label\" : label\n",
        "            }\n",
        "            examples.append(data)\n",
        "    return pd.DataFrame(examples)"
      ],
      "metadata": {
        "id": "m-n7Kjl4Gi23"
      },
      "execution_count": 2,
      "outputs": []
    },
    {
      "cell_type": "code",
      "source": [
        "train_df = load_data(PATH[\"train\"])\n",
        "val_df = load_data(PATH[\"val\"])\n",
        "test_df = load_data(PATH[\"test\"])"
      ],
      "metadata": {
        "id": "OJRLxIQDGkuT"
      },
      "execution_count": 3,
      "outputs": []
    },
    {
      "cell_type": "code",
      "source": [
        "!pip install langid\n",
        "from langid.langid import LanguageIdentifier, model\n",
        "def identify_vn(df):\n",
        "    identifier = LanguageIdentifier.from_modelstring(model, norm_probs=True)\n",
        "    not_vi_idx = set()\n",
        "    THRESHOLD = 0.9\n",
        "    for idx, row in df.iterrows():\n",
        "        score = identifier.classify(row[\"sentence\"])\n",
        "        if score[0] != \"vi\" or (score[0] == \"vi\" and score[1] <= THRESHOLD):\n",
        "            not_vi_idx.add(idx)\n",
        "    vi_df = df[~df.index.isin(not_vi_idx)]\n",
        "    not_vi_df = df[df.index.isin(not_vi_idx)]\n",
        "    return vi_df, not_vi_df\n",
        "train_df_vi, train_df_other = identify_vn(train_df)"
      ],
      "metadata": {
        "colab": {
          "base_uri": "https://localhost:8080/"
        },
        "id": "PzHcOLanGl1m",
        "outputId": "0437220a-d3ba-4763-b9ed-be1b85c7fea4"
      },
      "execution_count": 4,
      "outputs": [
        {
          "output_type": "stream",
          "name": "stdout",
          "text": [
            "Requirement already satisfied: langid in /usr/local/lib/python3.10/dist-packages (1.1.6)\n",
            "Requirement already satisfied: numpy in /usr/local/lib/python3.10/dist-packages (from langid) (1.23.5)\n"
          ]
        }
      ]
    },
    {
      "cell_type": "code",
      "source": [
        "import re\n",
        "import string\n",
        "def preprocess_text(text):\n",
        "    #remove urls https://www.example.com\n",
        "    url_pattern = re.compile(r\"https?\\S*\")\n",
        "    text = url_pattern.sub(r\" \", text)\n",
        "    #remove html tag\n",
        "    html_pattern = re.compile(r\"<[^<>]*>\")\n",
        "    text = html_pattern.sub(r\" \", text)\n",
        "    #remove puncs and digits\n",
        "    replace_chars = list(string.punctuation + string.digits)\n",
        "    for char in replace_chars:\n",
        "        text = text.replace(char, \" \")\n",
        "    #remove emoij\n",
        "    emoji_pattern = re.compile(\"[\"\n",
        "                               \"\\U0001F600-\\U0001F64F\"  # Emoticons\n",
        "                               \"\\U0001F300-\\U0001F5FF\"  # Miscellaneous Symbols and Pictographs\n",
        "                               \"\\U0001F680-\\U0001F6FF\"  # Transport & Map Symbols\n",
        "                               \"\\U0001F700-\\U0001F77F\"  # Alchemical Symbols\n",
        "                               \"\\U0001F780-\\U0001F7FF\"  # Geometric Shapes Extended\n",
        "                               \"\\U0001F800-\\U0001F8FF\"  # Supplemental Arrows-C\n",
        "                               \"\\U0001F900-\\U0001F9FF\"  # Supplemental Symbols and Pictographs\n",
        "                               \"\\U0001FA00-\\U0001FA6F\"  # Chess Symbols\n",
        "                               \"\\U0001FA70-\\U0001FAFF\"  # Symbols and Pictographs Extended-A\n",
        "                               \"\\U00002702-\\U000027B0\"  # Dingbat Symbols\n",
        "                               \"\\U000024C2-\\U0001F251\"\n",
        "                               \"]+\", flags=re.UNICODE)\n",
        "    text = emoji_pattern.sub(\" \", text)\n",
        "    text = \" \".join(text.split())\n",
        "    text = text.lower()\n",
        "    return text"
      ],
      "metadata": {
        "id": "gzOeEZ1kGm-c"
      },
      "execution_count": 5,
      "outputs": []
    },
    {
      "cell_type": "code",
      "source": [
        "train_df_vi[\"preprocess_sentence\"] = [preprocess_text(row[\"sentence\"]) for idx, row in train_df_vi.iterrows()]\n",
        "val_df[\"preprocess_sentence\"] = [preprocess_text(row[\"sentence\"]) for idx, row in val_df.iterrows()]\n",
        "test_df[\"preprocess_sentence\"] = [preprocess_text(row[\"sentence\"]) for idx, row in test_df.iterrows()]"
      ],
      "metadata": {
        "colab": {
          "base_uri": "https://localhost:8080/"
        },
        "id": "Swdis9-4GoqI",
        "outputId": "220ff216-1e95-4da8-b458-7b4e07b281f4"
      },
      "execution_count": 6,
      "outputs": [
        {
          "output_type": "stream",
          "name": "stderr",
          "text": [
            "<ipython-input-6-25c8292a879f>:1: SettingWithCopyWarning: \n",
            "A value is trying to be set on a copy of a slice from a DataFrame.\n",
            "Try using .loc[row_indexer,col_indexer] = value instead\n",
            "\n",
            "See the caveats in the documentation: https://pandas.pydata.org/pandas-docs/stable/user_guide/indexing.html#returning-a-view-versus-a-copy\n",
            "  train_df_vi[\"preprocess_sentence\"] = [preprocess_text(row[\"sentence\"]) for idx, row in train_df_vi.iterrows()]\n"
          ]
        }
      ]
    },
    {
      "cell_type": "code",
      "source": [
        "from torchtext.data.utils import get_tokenizer\n",
        "from torchtext.vocab import build_vocab_from_iterator\n",
        "tokenizer = get_tokenizer(\"basic_english\")\n",
        "def yield_tokens(sentences, tokenizer):\n",
        "    for sentence in sentences:\n",
        "        yield tokenizer(sentence)\n",
        "vocab_size = 10000\n",
        "vocabulary = build_vocab_from_iterator(yield_tokens(train_df_vi[\"preprocess_sentence\"], tokenizer),\n",
        "                                       max_tokens = vocab_size,\n",
        "                                       specials=[\"<pad>\",\"<unk>\"])\n",
        "vocabulary.set_default_index(vocabulary[\"<unk>\"])"
      ],
      "metadata": {
        "id": "nZmdg9CRGp79"
      },
      "execution_count": 7,
      "outputs": []
    },
    {
      "cell_type": "code",
      "source": [
        "from torchtext.data.functional import to_map_style_dataset\n",
        "def prepare_dataset(df):\n",
        "    for index, row in df.iterrows():\n",
        "        sentence = row[\"preprocess_sentence\"]\n",
        "        encoded_sentence = vocabulary(tokenizer(sentence))\n",
        "        label = row[\"label\"]\n",
        "        yield encoded_sentence, label\n",
        "train_dataset = prepare_dataset(train_df_vi)\n",
        "train_dataset = to_map_style_dataset(train_dataset)\n",
        "\n",
        "val_dataset = prepare_dataset(val_df)\n",
        "val_dataset = to_map_style_dataset(val_dataset)\n",
        "\n",
        "test_dataset = prepare_dataset(test_df)\n",
        "test_dataset = to_map_style_dataset(test_dataset)"
      ],
      "metadata": {
        "id": "BA2g0CbKGrkd"
      },
      "execution_count": 8,
      "outputs": []
    },
    {
      "cell_type": "code",
      "source": [
        "import torch\n",
        "seq_length = 100\n",
        "def collate_batch(batch):\n",
        "    sentences, labels = list(zip(*batch))\n",
        "    encoded_sentences = [sentence+([0] * (seq_length-len(sentence))) if len(sentence) < seq_length else sentence[:seq_length] for sentence in sentences]\n",
        "    encoded_sentences = torch.tensor(encoded_sentences, dtype=torch.int64)\n",
        "    labels = torch.tensor(labels)\n",
        "    return encoded_sentences, labels"
      ],
      "metadata": {
        "id": "yUSYWuU-GtXE"
      },
      "execution_count": 9,
      "outputs": []
    },
    {
      "cell_type": "code",
      "source": [
        "from torch.utils.data import DataLoader\n",
        "batch_size = 128\n",
        "train_dataloader = DataLoader(train_dataset, batch_size=batch_size, shuffle=True, collate_fn=collate_batch)\n",
        "val_dataloader = DataLoader(val_dataset, batch_size=batch_size, shuffle=False, collate_fn=collate_batch)\n",
        "test_dataloader = DataLoader(test_dataset, batch_size=batch_size, shuffle=False, collate_fn=collate_batch)"
      ],
      "metadata": {
        "id": "NWQErtFRH3xo"
      },
      "execution_count": 10,
      "outputs": []
    },
    {
      "cell_type": "code",
      "source": [
        "import time\n",
        "def train_epoch(model, optimizer, criterion, train_dataloader, device, epoch=0, log_interval=50):\n",
        "    model.train()\n",
        "    total_acc, total_count = 0, 0\n",
        "    losses = []\n",
        "    start_time = time.time()\n",
        "\n",
        "    for idx, (inputs, labels) in enumerate(train_dataloader):\n",
        "        inputs = inputs.to(device)\n",
        "        labels = labels.to(device)\n",
        "        optimizer.zero_grad()\n",
        "        predictions = model(inputs)\n",
        "        loss = criterion(predictions, labels)\n",
        "        losses.append(loss.item())\n",
        "        loss.backward()\n",
        "        optimizer.step()\n",
        "        total_acc += (predictions.argmax(1) == labels).sum().item()\n",
        "        total_count += labels.size(0)\n",
        "        if idx % log_interval == 0 and idx > 0:\n",
        "            elapsed = time.time() - start_time\n",
        "            print(\"| epoch {:3d} | {:5d}/{:5d} batches | accuracy {:8.3f}\".format(epoch, idx, len(train_dataloader), total_acc/total_count))\n",
        "            total_acc, total_count = 0, 0\n",
        "            start_time = time.time()\n",
        "    epoch_acc = total_acc / total_count\n",
        "    epoch_loss = sum(losses) / len(losses)\n",
        "    return epoch_acc, epoch_loss"
      ],
      "metadata": {
        "id": "llEuL8i7ISAS"
      },
      "execution_count": 11,
      "outputs": []
    },
    {
      "cell_type": "code",
      "source": [
        "def evaluate_epoch(model, criterion, valid_dataloader, device):\n",
        "    model.eval()\n",
        "    total_acc, total_count = 0, 0\n",
        "    losses = []\n",
        "    with torch.no_grad():\n",
        "        for idx, (inputs, labels) in enumerate(valid_dataloader):\n",
        "            inputs = inputs.to(device)\n",
        "            labels = labels.to(device)\n",
        "            predictions = model(inputs)\n",
        "            loss = criterion(predictions, labels)\n",
        "            losses.append(loss.item())\n",
        "            total_acc += (predictions.argmax(1) == labels).sum().item()\n",
        "            total_count += labels.size(0)\n",
        "    epoch_acc = total_acc / total_count\n",
        "    epoch_loss = sum(losses) / len(losses)\n",
        "    return epoch_acc, epoch_loss"
      ],
      "metadata": {
        "id": "zsiTAguEKlUm"
      },
      "execution_count": 12,
      "outputs": []
    },
    {
      "cell_type": "code",
      "source": [
        "def train(model, model_name, save_model, optimizer, criterion, train_dataloader, valid_dataloader, num_epochs, device):\n",
        "    train_accs, train_losses = [], []\n",
        "    eval_accs, eval_losses = [], []\n",
        "    best_loss_eval = 100\n",
        "    times = []\n",
        "    for epoch in range(1, num_epochs+1):\n",
        "        epoch_start_time = time.time()\n",
        "        train_acc, train_loss = train_epoch(model, optimizer, criterion, train_dataloader, device, epoch)\n",
        "        train_accs.append(train_acc)\n",
        "        train_losses.append(train_loss)\n",
        "        eval_acc, eval_loss = evaluate_epoch(model, criterion, valid_dataloader, device)\n",
        "        eval_accs.append(eval_acc)\n",
        "        eval_losses.append(eval_loss)\n",
        "        if eval_loss < best_loss_eval:\n",
        "            torch.save(model.state_dict(), save_model + f'/{model_name}.pt')\n",
        "        times.append(time.time() - epoch_start_time)\n",
        "        print(\"-\"*59)\n",
        "        print(\"| End of epoch {:3d} | Time: {:5.2f}s | Train Accuracy {:8.3f} | Train Loss {:8.3f} | Valid Accuracy {:8.3f} | Valid Loss {:8.3f}\".format(epoch, times[-1], train_acc, train_loss, eval_acc, eval_loss))\n",
        "        print(\"-\"*59)\n",
        "    model.load_state_dict(torch.load(save_model + f'/{model_name}.pt'))\n",
        "    model.eval()\n",
        "    metrics = {\n",
        "        'train_acc' : train_accs,\n",
        "        'train_loss' : train_losses,\n",
        "        'valid_acc' : eval_accs,\n",
        "        'valid_loss' : eval_losses,\n",
        "        'time' : times\n",
        "    }\n",
        "    return model, metrics"
      ],
      "metadata": {
        "id": "QWqZ5TGWLVQE"
      },
      "execution_count": 13,
      "outputs": []
    },
    {
      "cell_type": "code",
      "source": [
        "import matplotlib.pyplot as plt\n",
        "def plot_result(num_epochs, train_accs, eval_accs, train_losses, eval_losses):\n",
        "    epochs = list(range(num_epochs))\n",
        "    fig, axs = plt.subplots(nrows=1, ncols=2, figsize=(12,6))\n",
        "    axs[0].plot(epochs, train_accs, label=\"Training\")\n",
        "    axs[0].plot(epochs, eval_accs, label=\"Evaluation\")\n",
        "    axs[1].plot(epochs, train_losses, label=\"Training\")\n",
        "    axs[1].plot(epochs, eval_losses, label=\"Evaluation\")\n",
        "    axs[0].set_xlabel(\"Epochs\")\n",
        "    axs[1].set_xlabel(\"Epochs\")\n",
        "    axs[0].set_ylabel(\"Accuracy\")\n",
        "    axs[1].set_ylabel(\"Loss\")\n",
        "    plt.legend()"
      ],
      "metadata": {
        "id": "magxQVdcNr4P"
      },
      "execution_count": 14,
      "outputs": []
    },
    {
      "cell_type": "code",
      "source": [
        "import torch.nn as nn"
      ],
      "metadata": {
        "id": "f6ArdqOVaAML"
      },
      "execution_count": 15,
      "outputs": []
    },
    {
      "cell_type": "code",
      "source": [
        "class TokenAndPositionEmbedding(nn.Module):\n",
        "    def __init__(self, vocab_size, embed_dim, max_length, device='cpu'):\n",
        "        super().__init__()\n",
        "        self.device = device\n",
        "        self.word_emb = nn.Embedding(\n",
        "            num_embeddings=vocab_size,\n",
        "            embedding_dim=embed_dim)\n",
        "        self.pos_emb = nn.Embedding(\n",
        "            num_embeddings=max_length,\n",
        "            embedding_dim=embed_dim\n",
        "        )\n",
        "\n",
        "    def forward(self, x):\n",
        "        N, seq_len = x.size()\n",
        "        positions = torch.arange(0, seq_len).expand(N, seq_len).to(self.device)\n",
        "        output1 = self.word_emb(x)\n",
        "        output2 = self.pos_emb(positions)\n",
        "        output =  output1 + output2\n",
        "        return output\n",
        "\n",
        "class TransformerEncoderBlock(nn.Module):\n",
        "    def __init__(self, embed_dim, num_heads, ff_dim, dropout=0.1):\n",
        "        super().__init__()\n",
        "        self.attn = nn.MultiheadAttention(\n",
        "            embed_dim = embed_dim,\n",
        "            num_heads = num_heads,\n",
        "            batch_first = True\n",
        "        )\n",
        "        self.ffn = nn.Sequential(\n",
        "            nn.Linear(in_features=embed_dim, out_features=ff_dim, bias=True),\n",
        "            nn.ReLU(),\n",
        "            nn.Linear(in_features=ff_dim, out_features=embed_dim, bias=True)\n",
        "        )\n",
        "        self.layernorm_1 = nn.LayerNorm(normalized_shape=embed_dim, eps=1e-6)\n",
        "        self.layernorm_2 = nn.LayerNorm(normalized_shape=embed_dim, eps=1e-6)\n",
        "        self.dropout_1 = nn.Dropout(p=dropout)\n",
        "        self.dropout_2 = nn.Dropout(p=dropout)\n",
        "\n",
        "    def forward(self, query, key, value):\n",
        "        attn_output, _ = self.attn(query, key, value)\n",
        "        attn_output = self.dropout_1(attn_output)\n",
        "        out_1 = self.layernorm_1(query + attn_output)\n",
        "        ffn_output = self.ffn(attn_output)\n",
        "        ffn_output = self.dropout_2(ffn_output)\n",
        "        out_2 = self.layernorm_2(out_1 + ffn_output)\n",
        "        return out_2\n",
        "\n",
        "class TransformerEncoder(nn.Module):\n",
        "    def __init__(self, src_vocab_size, embed_dim, max_length, num_layers, num_heads, ff_dim, dropout=0.1, device='cpu'):\n",
        "        super().__init__()\n",
        "        self.embedding = TokenAndPositionEmbedding(src_vocab_size, embed_dim, max_length, device)\n",
        "        self.layers = nn.ModuleList(\n",
        "            [\n",
        "                TransformerEncoderBlock(embed_dim, num_heads, ff_dim, dropout) for i in range(num_layers)\n",
        "            ]\n",
        "        )\n",
        "\n",
        "    def forward(self, x):\n",
        "        output = self.embedding(x)\n",
        "        for layer in self.layers:\n",
        "            output = layer(output, output, output)\n",
        "        return output"
      ],
      "metadata": {
        "id": "FDpHNL5AOnKi"
      },
      "execution_count": 16,
      "outputs": []
    },
    {
      "cell_type": "code",
      "source": [
        "class TransformerEncoderCls(nn.Module):\n",
        "    def __init__(self, vocab_size, max_length, embed_dim, num_layers, num_heads, ff_dim, dropout=0.1, device='cpu'):\n",
        "        super().__init__()\n",
        "        self.encoder = TransformerEncoder(vocab_size, embed_dim, max_length, num_layers, num_heads, ff_dim, dropout, device)\n",
        "        self.pooling = nn.AvgPool1d(kernel_size=max_length)\n",
        "        self.fc1 = nn.Linear(in_features=embed_dim, out_features=20)\n",
        "        self.fc2 = nn.Linear(in_features=20, out_features=2)\n",
        "        self.dropout = nn.Dropout(p=dropout)\n",
        "        self.relu = nn.ReLU()\n",
        "\n",
        "    def forward(self, x):\n",
        "        output = self.encoder(x)\n",
        "        output = self.pooling(output.permute(0,2,1)).squeeze()\n",
        "        output = self.dropout(output)\n",
        "        output = self.fc1(output)\n",
        "        output = self.dropout(output)\n",
        "        output = self.fc2(output)\n",
        "        return output"
      ],
      "metadata": {
        "id": "J29WYQtHOzXS"
      },
      "execution_count": 17,
      "outputs": []
    },
    {
      "cell_type": "code",
      "source": [
        "import torch.optim as optim\n",
        "vocab_size = 10000\n",
        "max_length = 100\n",
        "embed_dim = 200\n",
        "num_layers = 2\n",
        "num_heads = 4\n",
        "ff_dim = 128\n",
        "dropout = 0.1\n",
        "\n",
        "device = torch.device('cuda' if torch.cuda.is_available() else 'cpu')\n",
        "model = TransformerEncoderCls(vocab_size, max_length, embed_dim, num_layers, num_heads, ff_dim, dropout, device).to(device)\n",
        "criterion = torch.nn.CrossEntropyLoss()\n",
        "optimizer = optim.Adam(model.parameters(), lr = 0.00005)\n",
        "num_epochs = 10\n",
        "save_model = './model'\n",
        "os.makedirs(save_model, exist_ok=True)\n",
        "model_name = \"model\"\n",
        "model, metrics = train(model, model_name, save_model, optimizer, criterion, train_dataloader, val_dataloader, num_epochs, device)"
      ],
      "metadata": {
        "colab": {
          "base_uri": "https://localhost:8080/"
        },
        "id": "oGYXIgaeQCjA",
        "outputId": "08c46427-4dd5-4f93-8ae5-0e01976b6326"
      },
      "execution_count": 18,
      "outputs": [
        {
          "output_type": "stream",
          "name": "stdout",
          "text": [
            "| epoch   1 |    50/  233 batches | accuracy    0.528\n",
            "| epoch   1 |   100/  233 batches | accuracy    0.623\n",
            "| epoch   1 |   150/  233 batches | accuracy    0.687\n",
            "| epoch   1 |   200/  233 batches | accuracy    0.746\n",
            "-----------------------------------------------------------\n",
            "| End of epoch   1 | Time:  8.26s | Train Accuracy    0.767 | Train Loss    0.613 | Valid Accuracy    0.767 | Valid Loss    0.496\n",
            "-----------------------------------------------------------\n",
            "| epoch   2 |    50/  233 batches | accuracy    0.783\n",
            "| epoch   2 |   100/  233 batches | accuracy    0.799\n",
            "| epoch   2 |   150/  233 batches | accuracy    0.798\n",
            "| epoch   2 |   200/  233 batches | accuracy    0.802\n",
            "-----------------------------------------------------------\n",
            "| End of epoch   2 | Time:  7.52s | Train Accuracy    0.812 | Train Loss    0.443 | Valid Accuracy    0.802 | Valid Loss    0.434\n",
            "-----------------------------------------------------------\n",
            "| epoch   3 |    50/  233 batches | accuracy    0.826\n",
            "| epoch   3 |   100/  233 batches | accuracy    0.821\n",
            "| epoch   3 |   150/  233 batches | accuracy    0.814\n",
            "| epoch   3 |   200/  233 batches | accuracy    0.819\n",
            "-----------------------------------------------------------\n",
            "| End of epoch   3 | Time:  7.61s | Train Accuracy    0.829 | Train Loss    0.404 | Valid Accuracy    0.812 | Valid Loss    0.417\n",
            "-----------------------------------------------------------\n",
            "| epoch   4 |    50/  233 batches | accuracy    0.827\n",
            "| epoch   4 |   100/  233 batches | accuracy    0.829\n",
            "| epoch   4 |   150/  233 batches | accuracy    0.838\n",
            "| epoch   4 |   200/  233 batches | accuracy    0.833\n",
            "-----------------------------------------------------------\n",
            "| End of epoch   4 | Time:  7.67s | Train Accuracy    0.835 | Train Loss    0.384 | Valid Accuracy    0.819 | Valid Loss    0.406\n",
            "-----------------------------------------------------------\n",
            "| epoch   5 |    50/  233 batches | accuracy    0.841\n",
            "| epoch   5 |   100/  233 batches | accuracy    0.840\n",
            "| epoch   5 |   150/  233 batches | accuracy    0.839\n",
            "| epoch   5 |   200/  233 batches | accuracy    0.840\n",
            "-----------------------------------------------------------\n",
            "| End of epoch   5 | Time:  7.81s | Train Accuracy    0.844 | Train Loss    0.369 | Valid Accuracy    0.823 | Valid Loss    0.401\n",
            "-----------------------------------------------------------\n",
            "| epoch   6 |    50/  233 batches | accuracy    0.849\n",
            "| epoch   6 |   100/  233 batches | accuracy    0.849\n",
            "| epoch   6 |   150/  233 batches | accuracy    0.846\n",
            "| epoch   6 |   200/  233 batches | accuracy    0.850\n",
            "-----------------------------------------------------------\n",
            "| End of epoch   6 | Time:  7.79s | Train Accuracy    0.841 | Train Loss    0.357 | Valid Accuracy    0.818 | Valid Loss    0.400\n",
            "-----------------------------------------------------------\n",
            "| epoch   7 |    50/  233 batches | accuracy    0.847\n",
            "| epoch   7 |   100/  233 batches | accuracy    0.851\n",
            "| epoch   7 |   150/  233 batches | accuracy    0.853\n",
            "| epoch   7 |   200/  233 batches | accuracy    0.852\n",
            "-----------------------------------------------------------\n",
            "| End of epoch   7 | Time:  7.88s | Train Accuracy    0.852 | Train Loss    0.349 | Valid Accuracy    0.829 | Valid Loss    0.392\n",
            "-----------------------------------------------------------\n",
            "| epoch   8 |    50/  233 batches | accuracy    0.856\n",
            "| epoch   8 |   100/  233 batches | accuracy    0.858\n",
            "| epoch   8 |   150/  233 batches | accuracy    0.848\n",
            "| epoch   8 |   200/  233 batches | accuracy    0.855\n",
            "-----------------------------------------------------------\n",
            "| End of epoch   8 | Time:  7.92s | Train Accuracy    0.859 | Train Loss    0.340 | Valid Accuracy    0.832 | Valid Loss    0.392\n",
            "-----------------------------------------------------------\n",
            "| epoch   9 |    50/  233 batches | accuracy    0.868\n",
            "| epoch   9 |   100/  233 batches | accuracy    0.848\n",
            "| epoch   9 |   150/  233 batches | accuracy    0.860\n",
            "| epoch   9 |   200/  233 batches | accuracy    0.863\n",
            "-----------------------------------------------------------\n",
            "| End of epoch   9 | Time:  7.74s | Train Accuracy    0.862 | Train Loss    0.330 | Valid Accuracy    0.830 | Valid Loss    0.392\n",
            "-----------------------------------------------------------\n",
            "| epoch  10 |    50/  233 batches | accuracy    0.855\n",
            "| epoch  10 |   100/  233 batches | accuracy    0.870\n",
            "| epoch  10 |   150/  233 batches | accuracy    0.860\n",
            "| epoch  10 |   200/  233 batches | accuracy    0.861\n",
            "-----------------------------------------------------------\n",
            "| End of epoch  10 | Time:  7.74s | Train Accuracy    0.875 | Train Loss    0.323 | Valid Accuracy    0.836 | Valid Loss    0.388\n",
            "-----------------------------------------------------------\n"
          ]
        }
      ]
    },
    {
      "cell_type": "code",
      "source": [
        "plot_result(num_epochs, metrics[\"train_acc\"], metrics[\"valid_acc\"], metrics[\"train_loss\"], metrics[\"valid_loss\"])"
      ],
      "metadata": {
        "colab": {
          "base_uri": "https://localhost:8080/",
          "height": 545
        },
        "id": "zMLXMoUnaD6U",
        "outputId": "5373ade0-d178-43c1-d585-d9abfe8fe977"
      },
      "execution_count": 19,
      "outputs": [
        {
          "output_type": "display_data",
          "data": {
            "text/plain": [
              "<Figure size 1200x600 with 2 Axes>"
            ],
            "image/png": "[encoded data removed]"
          },
          "metadata": {}
        }
      ]
    },
    {
      "cell_type": "code",
      "source": [
        "test_acc, test_loss = evaluate_epoch(model, criterion, test_dataloader, device)\n",
        "test_acc"
      ],
      "metadata": {
        "colab": {
          "base_uri": "https://localhost:8080/"
        },
        "id": "ou4F-ZQ2bRGw",
        "outputId": "78399846-a09d-42f4-fcaf-a2b5947feca1"
      },
      "execution_count": 20,
      "outputs": [
        {
          "output_type": "execute_result",
          "data": {
            "text/plain": [
              "0.8447"
            ]
          },
          "metadata": {},
          "execution_count": 20
        }
      ]
    },
    {
      "cell_type": "code",
      "source": [
        "s = \"trời mưa nhưng sao không khí của quán quá hầm hực, tôi sẽ không bao giờ ghé lại quán này\"\n",
        "sentence = vocabulary(tokenizer(s))\n",
        "encoded_sentence = sentence+([0] * (seq_length-len(sentence))) if len(sentence) < seq_length else sentence[:seq_length]\n",
        "torch_sentence = torch.tensor(encoded_sentence).unsqueeze(0).to(device)\n",
        "print('Negative' if model(torch_sentence).argmax(0).item() == 0 else 'Positive')"
      ],
      "metadata": {
        "colab": {
          "base_uri": "https://localhost:8080/"
        },
        "id": "bqx1U0Ywc4-4",
        "outputId": "bc92f2cb-7c89-4464-f9d8-be73697ca4b2"
      },
      "execution_count": 62,
      "outputs": [
        {
          "output_type": "stream",
          "name": "stdout",
          "text": [
            "Negative\n"
          ]
        }
      ]
    },
    {
      "cell_type": "code",
      "source": [],
      "metadata": {
        "id": "EhimQBobivNQ"
      },
      "execution_count": null,
      "outputs": []
    }
  ]
}